{
 "cells": [
  {
   "cell_type": "markdown",
   "metadata": {},
   "source": [
    "<a id='home'></a>\n",
    "\n",
    "# Modelo de priorização de clientes\n",
    "\n",
    "## Conteúdo\n",
    "\n",
    "- [Análise exploratória dos dados](#explora)\n",
    "- [Pré-processamento, limpeza, e remoção de dados](#dataprep)\n",
    "- [Modelos de classificação](#modelo)\n",
    "  - [Bernoulli naive bayes](#texto)\n",
    "  - [Árvore de decisão contínua](#numer)\n",
    "  - [Árvore de decisão categórica](#categ)\n",
    "  - [Stacking de modelos](#stack)\n",
    "- [Avaliação da solução](#avalia)\n",
    "- [Importância das variáveis](#importance)"
   ]
  },
  {
   "cell_type": "markdown",
   "metadata": {},
   "source": [
    "<a id='explora'></a>\n",
    "\n",
    "## Análise exploratória dos dados\n",
    "\n",
    "[topo](#home)"
   ]
  },
  {
   "cell_type": "code",
   "execution_count": 1,
   "metadata": {},
   "outputs": [],
   "source": [
    "%matplotlib inline\n",
    "\n",
    "import sys\n",
    "\n",
    "sys.path.append('../python')\n",
    "\n",
    "from modelos import clf_bnb\n",
    "from modelos import clf_dt1\n",
    "from modelos import clf_dt2\n",
    "\n",
    "from myutils import amostragem, dataprep\n",
    "from myplots import plot_roc\n",
    "\n",
    "from sklearn.linear_model import LogisticRegression\n",
    "from sklearn.metrics import roc_auc_score\n",
    "\n",
    "import matplotlib.pyplot as plt\n",
    "import numpy as np\n",
    "import pandas as pd"
   ]
  },
  {
   "cell_type": "code",
   "execution_count": 2,
   "metadata": {},
   "outputs": [
    {
     "data": {
      "text/html": [
       "<div>\n",
       "<style scoped>\n",
       "    .dataframe tbody tr th:only-of-type {\n",
       "        vertical-align: middle;\n",
       "    }\n",
       "\n",
       "    .dataframe tbody tr th {\n",
       "        vertical-align: top;\n",
       "    }\n",
       "\n",
       "    .dataframe thead th {\n",
       "        text-align: right;\n",
       "    }\n",
       "</style>\n",
       "<table border=\"1\" class=\"dataframe\">\n",
       "  <thead>\n",
       "    <tr style=\"text-align: right;\">\n",
       "      <th></th>\n",
       "      <th>id</th>\n",
       "      <th>age</th>\n",
       "      <th>monthly_income</th>\n",
       "      <th>collateral_value</th>\n",
       "      <th>loan_amount</th>\n",
       "      <th>city</th>\n",
       "      <th>state</th>\n",
       "      <th>collateral_debt</th>\n",
       "      <th>verified_restriction</th>\n",
       "      <th>dishonored_checks</th>\n",
       "      <th>...</th>\n",
       "      <th>pre_approved</th>\n",
       "      <th>form_completed</th>\n",
       "      <th>sent_to_analysis</th>\n",
       "      <th>channel</th>\n",
       "      <th>zip_code</th>\n",
       "      <th>landing_page</th>\n",
       "      <th>landing_page_product</th>\n",
       "      <th>gender</th>\n",
       "      <th>utm_term</th>\n",
       "      <th>education_level</th>\n",
       "    </tr>\n",
       "  </thead>\n",
       "  <tbody>\n",
       "    <tr>\n",
       "      <th>0</th>\n",
       "      <td>100001025857</td>\n",
       "      <td>61.0</td>\n",
       "      <td>1300.0</td>\n",
       "      <td>NaN</td>\n",
       "      <td>10000.0</td>\n",
       "      <td>NaN</td>\n",
       "      <td>NaN</td>\n",
       "      <td>NaN</td>\n",
       "      <td>NaN</td>\n",
       "      <td>0</td>\n",
       "      <td>...</td>\n",
       "      <td>0.0</td>\n",
       "      <td>1.0</td>\n",
       "      <td>0.0</td>\n",
       "      <td>NaN</td>\n",
       "      <td>5754XXXX</td>\n",
       "      <td>NaN</td>\n",
       "      <td>NaN</td>\n",
       "      <td>male</td>\n",
       "      <td>NaN</td>\n",
       "      <td>NaN</td>\n",
       "    </tr>\n",
       "    <tr>\n",
       "      <th>1</th>\n",
       "      <td>173466</td>\n",
       "      <td>50.0</td>\n",
       "      <td>3500.0</td>\n",
       "      <td>40000.0</td>\n",
       "      <td>23936.0</td>\n",
       "      <td>Muriaé</td>\n",
       "      <td>MG</td>\n",
       "      <td>NaN</td>\n",
       "      <td>1.0</td>\n",
       "      <td>0</td>\n",
       "      <td>...</td>\n",
       "      <td>0.0</td>\n",
       "      <td>0.0</td>\n",
       "      <td>0.0</td>\n",
       "      <td>search</td>\n",
       "      <td>3688XXXX</td>\n",
       "      <td>/emprestimo/garantia-veiculo</td>\n",
       "      <td>AutoRefinancing</td>\n",
       "      <td>NaN</td>\n",
       "      <td>c</td>\n",
       "      <td>NaN</td>\n",
       "    </tr>\n",
       "  </tbody>\n",
       "</table>\n",
       "<p>2 rows × 32 columns</p>\n",
       "</div>"
      ],
      "text/plain": [
       "             id   age  monthly_income  collateral_value  loan_amount    city  \\\n",
       "0  100001025857  61.0          1300.0               NaN      10000.0     NaN   \n",
       "1        173466  50.0          3500.0           40000.0      23936.0  Muriaé   \n",
       "\n",
       "  state  collateral_debt  verified_restriction  dishonored_checks  ...  \\\n",
       "0   NaN              NaN                   NaN                  0  ...   \n",
       "1    MG              NaN                   1.0                  0  ...   \n",
       "\n",
       "   pre_approved  form_completed  sent_to_analysis  channel  zip_code  \\\n",
       "0           0.0             1.0               0.0      NaN  5754XXXX   \n",
       "1           0.0             0.0               0.0   search  3688XXXX   \n",
       "\n",
       "                   landing_page  landing_page_product  gender utm_term  \\\n",
       "0                           NaN                   NaN    male      NaN   \n",
       "1  /emprestimo/garantia-veiculo       AutoRefinancing     NaN        c   \n",
       "\n",
       "  education_level  \n",
       "0             NaN  \n",
       "1             NaN  \n",
       "\n",
       "[2 rows x 32 columns]"
      ]
     },
     "execution_count": 2,
     "metadata": {},
     "output_type": "execute_result"
    }
   ],
   "source": [
    "dataset = pd.read_csv('../dados/dataset.csv') \\\n",
    "    .drop_duplicates()\n",
    "\n",
    "dataset.head(2)"
   ]
  },
  {
   "cell_type": "code",
   "execution_count": 3,
   "metadata": {},
   "outputs": [
    {
     "name": "stdout",
     "output_type": "stream",
     "text": [
      "Solicitações pré-aprovadas: 14998\n"
     ]
    }
   ],
   "source": [
    "pre_aprovados = dataset.pre_approved.value_counts()\n",
    "\n",
    "print('Solicitações pré-aprovadas:', pre_aprovados[1])"
   ]
  },
  {
   "cell_type": "code",
   "execution_count": 4,
   "metadata": {},
   "outputs": [
    {
     "data": {
      "image/png": "[encoded data removed]",
      "text/plain": [
       "<Figure size 504x360 with 1 Axes>"
      ]
     },
     "metadata": {
      "needs_background": "light"
     },
     "output_type": "display_data"
    }
   ],
   "source": [
    "enviadas = dataset[dataset.pre_approved==1.0]['sent_to_analysis'].value_counts()\n",
    "\n",
    "label = f'Total de solicitações pré-aprovadas: {pre_aprovados[1]}' \n",
    "\n",
    "enviadas.plot.bar(rot=0, figsize=(7, 5), label=label)\n",
    "\n",
    "plt.ylabel('número de solicitações', fontsize='large')\n",
    "plt.xlabel('enviadas para análise de crédito', fontsize='large')\n",
    "plt.ylim(0, 15e3)\n",
    "plt.legend();"
   ]
  },
  {
   "cell_type": "code",
   "execution_count": 5,
   "metadata": {},
   "outputs": [
    {
     "name": "stdout",
     "output_type": "stream",
     "text": [
      "Solicitações pré-aprovadas e enviadas para análise de crédito: 3269\n"
     ]
    }
   ],
   "source": [
    "print('Solicitações pré-aprovadas e enviadas para análise de crédito:', enviadas[1])"
   ]
  },
  {
   "cell_type": "markdown",
   "metadata": {},
   "source": [
    "<a id='dataprep'></a>\n",
    "\n",
    "## Pré-processamento, limpeza, e remoção de dados\n",
    "\n",
    "[topo](#home)"
   ]
  },
  {
   "cell_type": "code",
   "execution_count": 6,
   "metadata": {},
   "outputs": [
    {
     "name": "stdout",
     "output_type": "stream",
     "text": [
      "Antes do dataprep: (35017, 32)\n",
      "Final do dataprep: (14740, 25)\n"
     ]
    }
   ],
   "source": [
    "publico = dataprep(dataset)"
   ]
  },
  {
   "cell_type": "code",
   "execution_count": 7,
   "metadata": {},
   "outputs": [
    {
     "name": "stdout",
     "output_type": "stream",
     "text": [
      "                      coluna       tipo     unicos      nulos\n",
      " 1                        id      int64      14740          0\n",
      " 2                       age    float64         72          0\n",
      " 3            monthly_income    float64       1437          0\n",
      " 4               loan_amount    float64        994          0\n",
      " 5                      city     object       2189          8\n",
      " 6                     state     object         27          0\n",
      " 7         dishonored_checks      int64          2          0\n",
      " 8             banking_debts      int64          2          0\n",
      " 9          commercial_debts      int64          2          0\n",
      "10                  protests      int64          2          0\n",
      "11      informed_restriction    float64          2        791\n",
      "12           monthly_payment    float64       2294        736\n",
      "13          informed_purpose     object       8190        572\n",
      "14                auto_brand     object         29          0\n",
      "15                auto_model     object       1631          1\n",
      "16                 auto_year      int64         30          0\n",
      "17            form_completed    float64          2          0\n",
      "18          sent_to_analysis      int64          2          0\n",
      "19                   channel     object          9        558\n",
      "20                  zip_code      int64       4352          0\n",
      "21              landing_page     object         61        558\n",
      "22      landing_page_product     object          6       5554\n",
      "23                    gender     object          2       1871\n",
      "24           education_level     object          9       2821\n",
      "25      collateral_net_value    float64       2444          0\n"
     ]
    }
   ],
   "source": [
    "print(f'   {\"coluna\":>25} {\"tipo\":>10} {\"unicos\":>10} {\"nulos\":>10}')\n",
    "      \n",
    "for i, col in enumerate(publico.columns):\n",
    "    col_dtype = str(publico[col].dtype)\n",
    "    col_count = publico[col].nunique()\n",
    "    col_nulos = publico[col].isna().sum()\n",
    "    print(f'{i+1:>2} {col:>25} {col_dtype:>10} {col_count:>10} {col_nulos:>10}')"
   ]
  },
  {
   "cell_type": "markdown",
   "metadata": {},
   "source": [
    "<a id='modelo'></a>\n",
    "\n",
    "## Modelos de classificação\n",
    "\n",
    "[topo](#home)"
   ]
  },
  {
   "cell_type": "code",
   "execution_count": 8,
   "metadata": {},
   "outputs": [
    {
     "name": "stdout",
     "output_type": "stream",
     "text": [
      "train: (8844, 25)\n",
      "teste: (2948, 25)\n",
      "valid: (2948, 25)\n"
     ]
    }
   ],
   "source": [
    "\"\"\" Amostras de treino, teste e validação\n",
    "\"\"\"\n",
    "\n",
    "target = 'sent_to_analysis'\n",
    "\n",
    "df_train, df_teste, df_valid = amostragem(publico, target)\n",
    "\n",
    "print('train:', df_train.shape)\n",
    "print('teste:', df_teste.shape)\n",
    "print('valid:', df_valid.shape)"
   ]
  },
  {
   "cell_type": "code",
   "execution_count": 9,
   "metadata": {},
   "outputs": [],
   "source": [
    "y_train = df_train[target]\n",
    "y_teste = df_teste[target]\n",
    "y_valid = df_valid[target]\n",
    "\n",
    "X_train = df_train.drop(target, axis=1)\n",
    "X_teste = df_teste.drop(target, axis=1)\n",
    "X_valid = df_valid.drop(target, axis=1)"
   ]
  },
  {
   "cell_type": "markdown",
   "metadata": {},
   "source": [
    "<a id='texto'></a>\n",
    "\n",
    "### Bernoulli Naive bayes\n",
    "\n",
    "[topo](#home)"
   ]
  },
  {
   "cell_type": "code",
   "execution_count": 10,
   "metadata": {},
   "outputs": [
    {
     "name": "stdout",
     "output_type": "stream",
     "text": [
      "CPU times: user 82.3 ms, sys: 705 µs, total: 83 ms\n",
      "Wall time: 81.9 ms\n"
     ]
    }
   ],
   "source": [
    "%%time\n",
    "\n",
    "bnb = clf_bnb(X_train, y_train)\n",
    "\n",
    "bnb_score_teste = bnb.predict_proba(X_teste)[:, 1]\n",
    "bnb_score_valid = bnb.predict_proba(X_valid)[:, 1]"
   ]
  },
  {
   "cell_type": "markdown",
   "metadata": {},
   "source": [
    "<a id='numer'></a>\n",
    "\n",
    "### Árvore de decisão contínua\n",
    "\n",
    "[topo](#home)"
   ]
  },
  {
   "cell_type": "code",
   "execution_count": 11,
   "metadata": {},
   "outputs": [
    {
     "name": "stdout",
     "output_type": "stream",
     "text": [
      "CPU times: user 19.1 ms, sys: 243 µs, total: 19.4 ms\n",
      "Wall time: 18.1 ms\n"
     ]
    }
   ],
   "source": [
    "%%time\n",
    "\n",
    "dt1 = clf_dt1(X_train, y_train)\n",
    "\n",
    "dt1_score_teste = dt1.predict_proba(X_teste)[:, 1]\n",
    "dt1_score_valid = dt1.predict_proba(X_valid)[:, 1]"
   ]
  },
  {
   "cell_type": "markdown",
   "metadata": {},
   "source": [
    "<a id='categ'></a>\n",
    "\n",
    "### Árvore de decisão categórica\n",
    "\n",
    "[topo](#home)"
   ]
  },
  {
   "cell_type": "code",
   "execution_count": 12,
   "metadata": {},
   "outputs": [
    {
     "name": "stdout",
     "output_type": "stream",
     "text": [
      "CPU times: user 3 µs, sys: 1 µs, total: 4 µs\n",
      "Wall time: 8.11 µs\n"
     ]
    }
   ],
   "source": [
    "%time\n",
    "\n",
    "dt2 = clf_dt2(X_train, y_train)\n",
    "\n",
    "dt2_score_teste = dt2.predict_proba(X_teste)[:, 1]\n",
    "dt2_score_valid = dt2.predict_proba(X_valid)[:, 1]"
   ]
  },
  {
   "cell_type": "markdown",
   "metadata": {},
   "source": [
    "<a id='stack'></a>\n",
    "\n",
    "### Stacking de modelos\n",
    "\n",
    "[topo](#home)"
   ]
  },
  {
   "cell_type": "code",
   "execution_count": 13,
   "metadata": {},
   "outputs": [],
   "source": [
    "X_teste_stack = np.c_[\n",
    "    dt2_score_teste,\n",
    "    dt1_score_teste,\n",
    "    bnb_score_teste,\n",
    "]\n",
    "\n",
    "X_valid_stack = np.c_[\n",
    "    dt2_score_valid,\n",
    "    dt1_score_valid,\n",
    "    bnb_score_valid,\n",
    "]"
   ]
  },
  {
   "cell_type": "code",
   "execution_count": 14,
   "metadata": {},
   "outputs": [],
   "source": [
    "reg = LogisticRegression(random_state=42, solver='lbfgs')\n",
    "\n",
    "auc_scores = []\n",
    "\n",
    "for i in range(1, 4):\n",
    "    reg.fit(X_teste_stack[:, :i], y_teste)\n",
    "    reg_score = reg.predict_proba(X_valid_stack[:, :i])[:, 1]\n",
    "    reg_auc = roc_auc_score(y_valid, reg_score)\n",
    "    auc_scores.append(reg_auc)\n",
    "    \n",
    "reg_score_valid = reg_score"
   ]
  },
  {
   "cell_type": "code",
   "execution_count": 15,
   "metadata": {},
   "outputs": [
    {
     "data": {
      "image/png": "[encoded data removed]",
      "text/plain": [
       "<Figure size 504x360 with 1 Axes>"
      ]
     },
     "metadata": {
      "needs_background": "light"
     },
     "output_type": "display_data"
    }
   ],
   "source": [
    "plt.subplots(figsize=(7, 5))\n",
    "\n",
    "modelos = [\n",
    "    'dt2',\n",
    "    'dt1\\ndt2',\n",
    "    'bnb\\ndt1\\ndt2',\n",
    "]\n",
    "\n",
    "plt.plot(modelos, auc_scores, 'o-')\n",
    "plt.tick_params(labelsize='large')\n",
    "plt.title('Stacking de modelos', fontsize='large')\n",
    "plt.ylabel('AUC score', fontsize='large');"
   ]
  },
  {
   "cell_type": "markdown",
   "metadata": {},
   "source": [
    "<a id='avalia'></a>\n",
    "\n",
    "## Avaliação da solução\n",
    "\n",
    "[topo](#home)"
   ]
  },
  {
   "cell_type": "code",
   "execution_count": 16,
   "metadata": {},
   "outputs": [
    {
     "data": {
      "image/png": "[encoded data removed]",
      "text/plain": [
       "<Figure size 504x360 with 1 Axes>"
      ]
     },
     "metadata": {
      "needs_background": "light"
     },
     "output_type": "display_data"
    }
   ],
   "source": [
    "fig, ax = plt.subplots(figsize=(7, 5), sharex=True)\n",
    "                  \n",
    "plot_roc(y_valid, reg_score_valid, label='Stacking', ax=ax)\n",
    "plot_roc(y_valid, dt2_score_valid, label='Decision Tree Categórica', ax=ax)\n",
    "plot_roc(y_valid, dt1_score_valid, label='Decision Tree Contínua', ax=ax)\n",
    "plot_roc(y_valid, bnb_score_valid, label='Bernoulli Naive Bayes', ax=ax);"
   ]
  },
  {
   "cell_type": "markdown",
   "metadata": {},
   "source": [
    "<a id='importance'></a>\n",
    "\n",
    "## Importância das variáveis\n",
    "\n",
    "[topo](#home)"
   ]
  },
  {
   "cell_type": "code",
   "execution_count": 17,
   "metadata": {},
   "outputs": [
    {
     "data": {
      "image/png": "[encoded data removed]",
      "text/plain": [
       "<Figure size 504x360 with 1 Axes>"
      ]
     },
     "metadata": {
      "needs_background": "light"
     },
     "output_type": "display_data"
    }
   ],
   "source": [
    "dt1_columns = [\n",
    "    'monthly_income',\n",
    "    'loan_amount',\n",
    "    'monthly_payment',\n",
    "    'collateral_net_value',\n",
    "]\n",
    "\n",
    "dt1_importances = dt1.steps[1][1].feature_importances_\n",
    "\n",
    "df = pd.DataFrame(\n",
    "    data=dt1_importances,\n",
    "    index=dt1_columns\n",
    ").sort_values(by=0)\n",
    "\n",
    "df.plot.barh(figsize=(7, 5))\n",
    "\n",
    "plt.title('Árvore de decisão contínua', fontsize='large')\n",
    "plt.xlabel('importância das variáveis', fontsize='large')\n",
    "plt.legend().remove()"
   ]
  },
  {
   "cell_type": "code",
   "execution_count": 18,
   "metadata": {},
   "outputs": [
    {
     "data": {
      "image/png": "[encoded data removed]",
      "text/plain": [
       "<Figure size 504x360 with 1 Axes>"
      ]
     },
     "metadata": {
      "needs_background": "light"
     },
     "output_type": "display_data"
    }
   ],
   "source": [
    "dt2_columns = [\n",
    "    'id',\n",
    "    'age',\n",
    "    'zip_code',\n",
    "    'banking_debts',\n",
    "    'commercial_debts',\n",
    "    'auto_year',\n",
    "    'auto_brand',\n",
    "    'informed_restriction',\n",
    "    'form_completed',\n",
    "    'channel',\n",
    "    'landing_page',\n",
    "]\n",
    "\n",
    "dt2_importances = dt2.steps[1][1].feature_importances_\n",
    "\n",
    "df = pd.DataFrame(\n",
    "    data=dt2_importances,\n",
    "    index=dt2_columns\n",
    ").sort_values(by=0)\n",
    "\n",
    "df.plot.barh(figsize=(7, 5))\n",
    "\n",
    "plt.title('Árvore de decisão categórica', fontsize='large')\n",
    "plt.xlabel('importância das variáveis', fontsize='large')\n",
    "plt.legend().remove()"
   ]
  }
 ],
 "metadata": {
  "kernelspec": {
   "display_name": "Python 3",
   "language": "python",
   "name": "python3"
  },
  "language_info": {
   "codemirror_mode": {
    "name": "ipython",
    "version": 3
   },
   "file_extension": ".py",
   "mimetype": "text/x-python",
   "name": "python",
   "nbconvert_exporter": "python",
   "pygments_lexer": "ipython3",
   "version": "3.7.5rc1"
  }
 },
 "nbformat": 4,
 "nbformat_minor": 2
}
