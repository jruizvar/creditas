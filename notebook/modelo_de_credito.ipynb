{
 "cells": [
  {
   "cell_type": "markdown",
   "metadata": {},
   "source": [
    "<a id='home'></a>\n",
    "\n",
    "# Modelo de crédito para pessoa física\n",
    "\n",
    "## Conteúdo\n",
    "\n",
    "- [Análise exploratória dos dados](#explora)\n",
    "- [Pré-processamento, limpeza, e remoção de dados](#dataprep)\n",
    "- [Modelos de classificação](#modelo)\n",
    "  - [Bernoulli naive bayes](#texto)\n",
    "  - [Gaussian naive bayes](#numer)\n",
    "  - [Árvore de decisão](#categ)\n",
    "  - [Stacking de modelos](#stack)\n",
    "- [Avaliação da solução](#avalia)\n",
    "- [Importância das variáveis](#importance)"
   ]
  },
  {
   "cell_type": "markdown",
   "metadata": {},
   "source": [
    "<a id='explora'></a>\n",
    "\n",
    "## Análise exploratória dos dados\n",
    "\n",
    "[topo](#home)"
   ]
  },
  {
   "cell_type": "code",
   "execution_count": 1,
   "metadata": {},
   "outputs": [],
   "source": [
    "import sys\n",
    "\n",
    "sys.path.append('../python')"
   ]
  },
  {
   "cell_type": "code",
   "execution_count": 2,
   "metadata": {},
   "outputs": [],
   "source": [
    "%matplotlib inline\n",
    "\n",
    "from myutils import amostragem, dataprep\n",
    "from myplots import plot_roc\n",
    "\n",
    "from sklearn.feature_extraction.text import CountVectorizer\n",
    "from sklearn.linear_model import LogisticRegression\n",
    "from sklearn.metrics import roc_auc_score\n",
    "from sklearn.model_selection import GridSearchCV\n",
    "from sklearn.naive_bayes import BernoulliNB\n",
    "from sklearn.naive_bayes import GaussianNB\n",
    "from sklearn.neighbors import KNeighborsClassifier\n",
    "from sklearn.pipeline import Pipeline\n",
    "from sklearn.preprocessing import StandardScaler\n",
    "from sklearn.tree import DecisionTreeClassifier\n",
    "\n",
    "import matplotlib.pyplot as plt\n",
    "import numpy as np\n",
    "import pandas as pd"
   ]
  },
  {
   "cell_type": "code",
   "execution_count": 3,
   "metadata": {},
   "outputs": [
    {
     "data": {
      "text/html": [
       "<div>\n",
       "<style scoped>\n",
       "    .dataframe tbody tr th:only-of-type {\n",
       "        vertical-align: middle;\n",
       "    }\n",
       "\n",
       "    .dataframe tbody tr th {\n",
       "        vertical-align: top;\n",
       "    }\n",
       "\n",
       "    .dataframe thead th {\n",
       "        text-align: right;\n",
       "    }\n",
       "</style>\n",
       "<table border=\"1\" class=\"dataframe\">\n",
       "  <thead>\n",
       "    <tr style=\"text-align: right;\">\n",
       "      <th></th>\n",
       "      <th>id</th>\n",
       "      <th>age</th>\n",
       "      <th>monthly_income</th>\n",
       "      <th>collateral_value</th>\n",
       "      <th>loan_amount</th>\n",
       "      <th>city</th>\n",
       "      <th>state</th>\n",
       "      <th>collateral_debt</th>\n",
       "      <th>verified_restriction</th>\n",
       "      <th>dishonored_checks</th>\n",
       "      <th>...</th>\n",
       "      <th>pre_approved</th>\n",
       "      <th>form_completed</th>\n",
       "      <th>sent_to_analysis</th>\n",
       "      <th>channel</th>\n",
       "      <th>zip_code</th>\n",
       "      <th>landing_page</th>\n",
       "      <th>landing_page_product</th>\n",
       "      <th>gender</th>\n",
       "      <th>utm_term</th>\n",
       "      <th>education_level</th>\n",
       "    </tr>\n",
       "  </thead>\n",
       "  <tbody>\n",
       "    <tr>\n",
       "      <th>0</th>\n",
       "      <td>100001025857</td>\n",
       "      <td>61.0</td>\n",
       "      <td>1300.0</td>\n",
       "      <td>NaN</td>\n",
       "      <td>10000.0</td>\n",
       "      <td>NaN</td>\n",
       "      <td>NaN</td>\n",
       "      <td>NaN</td>\n",
       "      <td>NaN</td>\n",
       "      <td>0</td>\n",
       "      <td>...</td>\n",
       "      <td>0.0</td>\n",
       "      <td>1.0</td>\n",
       "      <td>0.0</td>\n",
       "      <td>NaN</td>\n",
       "      <td>5754XXXX</td>\n",
       "      <td>NaN</td>\n",
       "      <td>NaN</td>\n",
       "      <td>male</td>\n",
       "      <td>NaN</td>\n",
       "      <td>NaN</td>\n",
       "    </tr>\n",
       "    <tr>\n",
       "      <th>1</th>\n",
       "      <td>173466</td>\n",
       "      <td>50.0</td>\n",
       "      <td>3500.0</td>\n",
       "      <td>40000.0</td>\n",
       "      <td>23936.0</td>\n",
       "      <td>Muriaé</td>\n",
       "      <td>MG</td>\n",
       "      <td>NaN</td>\n",
       "      <td>1.0</td>\n",
       "      <td>0</td>\n",
       "      <td>...</td>\n",
       "      <td>0.0</td>\n",
       "      <td>0.0</td>\n",
       "      <td>0.0</td>\n",
       "      <td>search</td>\n",
       "      <td>3688XXXX</td>\n",
       "      <td>/emprestimo/garantia-veiculo</td>\n",
       "      <td>AutoRefinancing</td>\n",
       "      <td>NaN</td>\n",
       "      <td>c</td>\n",
       "      <td>NaN</td>\n",
       "    </tr>\n",
       "    <tr>\n",
       "      <th>2</th>\n",
       "      <td>173465</td>\n",
       "      <td>31.0</td>\n",
       "      <td>2600.0</td>\n",
       "      <td>18000.0</td>\n",
       "      <td>5000.0</td>\n",
       "      <td>Araxá</td>\n",
       "      <td>MG</td>\n",
       "      <td>10000.0</td>\n",
       "      <td>0.0</td>\n",
       "      <td>0</td>\n",
       "      <td>...</td>\n",
       "      <td>0.0</td>\n",
       "      <td>1.0</td>\n",
       "      <td>0.0</td>\n",
       "      <td>display</td>\n",
       "      <td>3818XXXX</td>\n",
       "      <td>/emprestimos/solicitar</td>\n",
       "      <td>PersonalLoan</td>\n",
       "      <td>male</td>\n",
       "      <td>NaN</td>\n",
       "      <td>NaN</td>\n",
       "    </tr>\n",
       "  </tbody>\n",
       "</table>\n",
       "<p>3 rows × 32 columns</p>\n",
       "</div>"
      ],
      "text/plain": [
       "             id   age  monthly_income  collateral_value  loan_amount    city  \\\n",
       "0  100001025857  61.0          1300.0               NaN      10000.0     NaN   \n",
       "1        173466  50.0          3500.0           40000.0      23936.0  Muriaé   \n",
       "2        173465  31.0          2600.0           18000.0       5000.0   Araxá   \n",
       "\n",
       "  state  collateral_debt  verified_restriction  dishonored_checks  ...  \\\n",
       "0   NaN              NaN                   NaN                  0  ...   \n",
       "1    MG              NaN                   1.0                  0  ...   \n",
       "2    MG          10000.0                   0.0                  0  ...   \n",
       "\n",
       "   pre_approved  form_completed  sent_to_analysis  channel  zip_code  \\\n",
       "0           0.0             1.0               0.0      NaN  5754XXXX   \n",
       "1           0.0             0.0               0.0   search  3688XXXX   \n",
       "2           0.0             1.0               0.0  display  3818XXXX   \n",
       "\n",
       "                   landing_page  landing_page_product  gender utm_term  \\\n",
       "0                           NaN                   NaN    male      NaN   \n",
       "1  /emprestimo/garantia-veiculo       AutoRefinancing     NaN        c   \n",
       "2        /emprestimos/solicitar          PersonalLoan    male      NaN   \n",
       "\n",
       "  education_level  \n",
       "0             NaN  \n",
       "1             NaN  \n",
       "2             NaN  \n",
       "\n",
       "[3 rows x 32 columns]"
      ]
     },
     "execution_count": 3,
     "metadata": {},
     "output_type": "execute_result"
    }
   ],
   "source": [
    "dataset = pd.read_csv('../dados/dataset.csv') \\\n",
    "    .drop_duplicates()\n",
    "\n",
    "dataset.head(3)"
   ]
  },
  {
   "cell_type": "code",
   "execution_count": 4,
   "metadata": {},
   "outputs": [
    {
     "data": {
      "image/png": "[encoded data removed]",
      "text/plain": [
       "<Figure size 504x360 with 1 Axes>"
      ]
     },
     "metadata": {
      "needs_background": "light"
     },
     "output_type": "display_data"
    }
   ],
   "source": [
    "pre_aprovados = dataset.pre_approved.value_counts()\n",
    "\n",
    "label = f'Total de solicitações: {dataset.shape[0]}' \n",
    "\n",
    "pre_aprovados.plot.bar(rot=0, figsize=(7, 5), label=label)\n",
    "\n",
    "plt.ylabel('número de solicitações')\n",
    "plt.xlabel('pré-aprovado')\n",
    "plt.ylim(0, 24e3)\n",
    "plt.legend();"
   ]
  },
  {
   "cell_type": "code",
   "execution_count": 5,
   "metadata": {},
   "outputs": [
    {
     "name": "stdout",
     "output_type": "stream",
     "text": [
      "Solicitações pré-aprovadas: 14998\n"
     ]
    }
   ],
   "source": [
    "print('Solicitações pré-aprovadas:', pre_aprovados[1])"
   ]
  },
  {
   "cell_type": "code",
   "execution_count": 6,
   "metadata": {},
   "outputs": [
    {
     "data": {
      "image/png": "[encoded data removed]",
      "text/plain": [
       "<Figure size 504x360 with 1 Axes>"
      ]
     },
     "metadata": {
      "needs_background": "light"
     },
     "output_type": "display_data"
    }
   ],
   "source": [
    "target = dataset[dataset.pre_approved==1.0]['sent_to_analysis'].value_counts()\n",
    "\n",
    "label = f'Total de solicitações pré-aprovadas: {pre_aprovados[1]}' \n",
    "\n",
    "target.plot.bar(rot=0, figsize=(7, 5), label=label)\n",
    "\n",
    "plt.ylabel('número de solicitações')\n",
    "plt.xlabel('enviadas para análise de crédito')\n",
    "plt.ylim(0, 15e3)\n",
    "plt.legend();"
   ]
  },
  {
   "cell_type": "code",
   "execution_count": 7,
   "metadata": {},
   "outputs": [
    {
     "name": "stdout",
     "output_type": "stream",
     "text": [
      "Solicitações pré-aprovadas e enviadas para análise de crédito: 3269\n"
     ]
    }
   ],
   "source": [
    "print('Solicitações pré-aprovadas e enviadas para análise de crédito:', target[1])"
   ]
  },
  {
   "cell_type": "markdown",
   "metadata": {},
   "source": [
    "<a id='dataprep'></a>\n",
    "\n",
    "## Pré-processamento, limpeza, e remoção de dados\n",
    "\n",
    "[topo](#home)"
   ]
  },
  {
   "cell_type": "code",
   "execution_count": 8,
   "metadata": {},
   "outputs": [],
   "source": [
    "publico = dataprep(dataset)"
   ]
  },
  {
   "cell_type": "code",
   "execution_count": 9,
   "metadata": {},
   "outputs": [
    {
     "name": "stdout",
     "output_type": "stream",
     "text": [
      "                      coluna       tipo     unicos      nulos\n",
      " 1                        id      int64      13290          0\n",
      " 2                       age    float64         56          0\n",
      " 3            monthly_income    float64       1303          0\n",
      " 4               loan_amount    float64        926          0\n",
      " 5                      city     object       2098          1\n",
      " 6                     state     object         27          0\n",
      " 7         dishonored_checks      int64          2          0\n",
      " 8             banking_debts      int64          2          0\n",
      " 9          commercial_debts      int64          2          0\n",
      "10                  protests      int64          2          0\n",
      "11      informed_restriction      int64          3          0\n",
      "12           monthly_payment    float64       2162          0\n",
      "13          informed_purpose     object       8091          0\n",
      "14                auto_brand     object         49          0\n",
      "15                auto_model      int64       1552          0\n",
      "16                 auto_year      int64         30          0\n",
      "17            form_completed      int64          2          0\n",
      "18          sent_to_analysis      int64          2          0\n",
      "19                   channel      int64         10          0\n",
      "20                  zip_code     object       4184          0\n",
      "21              landing_page      int64        180          0\n",
      "22      landing_page_product      int64          8          0\n",
      "23                    gender      int64          3          0\n",
      "24           education_level      int64         10          0\n",
      "25      collateral_net_value    float64       1690          0\n"
     ]
    }
   ],
   "source": [
    "\"\"\" Sumário do pré-processamento\n",
    "\"\"\"\n",
    "\n",
    "print(f'   {\"coluna\":>25} {\"tipo\":>10} {\"unicos\":>10} {\"nulos\":>10}')\n",
    "      \n",
    "for i, col in enumerate(publico.columns):\n",
    "    col_dtype = str(publico[col].dtype)\n",
    "    col_count = publico[col].nunique()\n",
    "    col_nulos = publico[col].isna().sum()\n",
    "    print(f'{i+1:>2} {col:>25} {col_dtype:>10} {col_count:>10} {col_nulos:>10}')"
   ]
  },
  {
   "cell_type": "markdown",
   "metadata": {},
   "source": [
    "<a id='modelo'></a>\n",
    "\n",
    "## Modelos de classificação\n",
    "\n",
    "[topo](#home)"
   ]
  },
  {
   "cell_type": "code",
   "execution_count": 10,
   "metadata": {},
   "outputs": [
    {
     "name": "stdout",
     "output_type": "stream",
     "text": [
      "train: (6645, 24)\n",
      "teste: (3322, 24)\n",
      "valid: (3323, 24)\n"
     ]
    }
   ],
   "source": [
    "\"\"\" Amostras de treino, teste e validação\n",
    "\"\"\"\n",
    "\n",
    "target = 'sent_to_analysis'\n",
    "\n",
    "X_train, X_teste, X_valid, y_train, y_teste, y_valid = amostragem(publico, target)\n",
    "\n",
    "print('train:', X_train.shape)\n",
    "print('teste:', X_teste.shape)\n",
    "print('valid:', X_valid.shape)"
   ]
  },
  {
   "cell_type": "markdown",
   "metadata": {},
   "source": [
    "<a id='zipcode'></a>\n",
    "\n",
    "### k-nearest neighbors\n",
    "\n",
    "[topo](#home)"
   ]
  },
  {
   "cell_type": "code",
   "execution_count": 11,
   "metadata": {},
   "outputs": [
    {
     "name": "stdout",
     "output_type": "stream",
     "text": [
      "CPU times: user 515 ms, sys: 3.11 ms, total: 518 ms\n",
      "Wall time: 517 ms\n"
     ]
    },
    {
     "data": {
      "text/plain": [
       "GridSearchCV(cv=2, error_score='raise-deprecating',\n",
       "             estimator=KNeighborsClassifier(algorithm='auto', leaf_size=30,\n",
       "                                            metric='minkowski',\n",
       "                                            metric_params=None, n_jobs=None,\n",
       "                                            n_neighbors=5, p=2,\n",
       "                                            weights='uniform'),\n",
       "             iid='warn', n_jobs=None, param_grid={'n_neighbors': [30, 35, 40]},\n",
       "             pre_dispatch='2*n_jobs', refit=True, return_train_score=False,\n",
       "             scoring=None, verbose=0)"
      ]
     },
     "execution_count": 11,
     "metadata": {},
     "output_type": "execute_result"
    }
   ],
   "source": [
    "%%time\n",
    "\n",
    "parameters = {\n",
    "    'n_neighbors': [30, 35, 40]\n",
    "}\n",
    "\n",
    "knn = GridSearchCV(\n",
    "    KNeighborsClassifier(),\n",
    "    parameters,\n",
    "    cv=2\n",
    ")\n",
    "\n",
    "X_train_knn = X_train.zip_code.values.reshape(-1, 1)\n",
    "\n",
    "knn.fit(X_train_knn, y_train)"
   ]
  },
  {
   "cell_type": "code",
   "execution_count": 12,
   "metadata": {},
   "outputs": [
    {
     "data": {
      "text/plain": [
       "KNeighborsClassifier(algorithm='auto', leaf_size=30, metric='minkowski',\n",
       "                     metric_params=None, n_jobs=None, n_neighbors=35, p=2,\n",
       "                     weights='uniform')"
      ]
     },
     "execution_count": 12,
     "metadata": {},
     "output_type": "execute_result"
    }
   ],
   "source": [
    "knn.best_estimator_"
   ]
  },
  {
   "cell_type": "code",
   "execution_count": 13,
   "metadata": {},
   "outputs": [
    {
     "name": "stdout",
     "output_type": "stream",
     "text": [
      "CPU times: user 31 ms, sys: 0 ns, total: 31 ms\n",
      "Wall time: 30.3 ms\n"
     ]
    }
   ],
   "source": [
    "%%time\n",
    "\n",
    "X_teste_knn = X_teste.zip_code.values.reshape(-1, 1)\n",
    "X_valid_knn = X_valid.zip_code.values.reshape(-1, 1)\n",
    "\n",
    "knn_score_teste = knn.predict_proba(X_teste_knn)[:, 1]\n",
    "knn_score_valid = knn.predict_proba(X_valid_knn)[:, 1]"
   ]
  },
  {
   "cell_type": "markdown",
   "metadata": {},
   "source": [
    "<a id='texto'></a>\n",
    "\n",
    "### Bernoulli Naive bayes\n",
    "\n",
    "[topo](#home)"
   ]
  },
  {
   "cell_type": "code",
   "execution_count": 14,
   "metadata": {},
   "outputs": [
    {
     "name": "stdout",
     "output_type": "stream",
     "text": [
      "CPU times: user 102 ms, sys: 581 µs, total: 103 ms\n",
      "Wall time: 101 ms\n"
     ]
    },
    {
     "data": {
      "text/plain": [
       "Pipeline(memory=None,\n",
       "         steps=[('vec',\n",
       "                 CountVectorizer(analyzer='char_wb', binary=True,\n",
       "                                 decode_error='strict',\n",
       "                                 dtype=<class 'numpy.int64'>, encoding='utf-8',\n",
       "                                 input='content', lowercase=True, max_df=1.0,\n",
       "                                 max_features=None, min_df=1,\n",
       "                                 ngram_range=(4, 4), preprocessor=None,\n",
       "                                 stop_words=None, strip_accents='ascii',\n",
       "                                 token_pattern='(?u)\\\\b\\\\w\\\\w+\\\\b',\n",
       "                                 tokenizer=None, vocabulary=None)),\n",
       "                ('bnb',\n",
       "                 BernoulliNB(alpha=1.0, binarize=None, class_prior=None,\n",
       "                             fit_prior=True))],\n",
       "         verbose=False)"
      ]
     },
     "execution_count": 14,
     "metadata": {},
     "output_type": "execute_result"
    }
   ],
   "source": [
    "%%time\n",
    "\n",
    "vectorizer = CountVectorizer(\n",
    "    analyzer='char_wb',\n",
    "    ngram_range=(4, 4),\n",
    "    binary=True,\n",
    "    strip_accents='ascii'\n",
    ")\n",
    "\n",
    "bnb = Pipeline([('vec', vectorizer),\n",
    "                ('bnb', BernoulliNB(binarize=None))\n",
    "               ])\n",
    "\n",
    "X_train_bnb = X_train.informed_purpose\n",
    "\n",
    "bnb.fit(X_train_bnb, y_train)"
   ]
  },
  {
   "cell_type": "code",
   "execution_count": 15,
   "metadata": {},
   "outputs": [
    {
     "name": "stdout",
     "output_type": "stream",
     "text": [
      "CPU times: user 108 ms, sys: 0 ns, total: 108 ms\n",
      "Wall time: 107 ms\n"
     ]
    }
   ],
   "source": [
    "%%time\n",
    "\n",
    "X_teste_bnb = X_teste.informed_purpose\n",
    "X_valid_bnb = X_valid.informed_purpose\n",
    "\n",
    "bnb_score_teste = bnb.predict_proba(X_teste_bnb)[:, 1]\n",
    "bnb_score_valid = bnb.predict_proba(X_valid_bnb)[:, 1]"
   ]
  },
  {
   "cell_type": "markdown",
   "metadata": {},
   "source": [
    "<a id='numer'></a>\n",
    "\n",
    "### Gaussian naive bayes\n",
    "\n",
    "[topo](#home)"
   ]
  },
  {
   "cell_type": "code",
   "execution_count": 16,
   "metadata": {},
   "outputs": [
    {
     "name": "stdout",
     "output_type": "stream",
     "text": [
      "CPU times: user 9.27 ms, sys: 390 µs, total: 9.66 ms\n",
      "Wall time: 8.82 ms\n"
     ]
    },
    {
     "data": {
      "text/plain": [
       "Pipeline(memory=None,\n",
       "         steps=[('sca',\n",
       "                 StandardScaler(copy=True, with_mean=True, with_std=True)),\n",
       "                ('gnb', GaussianNB(priors=None, var_smoothing=1e-09))],\n",
       "         verbose=False)"
      ]
     },
     "execution_count": 16,
     "metadata": {},
     "output_type": "execute_result"
    }
   ],
   "source": [
    "%%time\n",
    "\n",
    "gnb = Pipeline([('sca', StandardScaler()),\n",
    "                ('gnb', GaussianNB())\n",
    "               ])\n",
    "\n",
    "X_train_gnb = X_train.select_dtypes(include=['float64'])\n",
    "\n",
    "gnb.fit(X_train_gnb, y_train)"
   ]
  },
  {
   "cell_type": "code",
   "execution_count": 17,
   "metadata": {},
   "outputs": [
    {
     "name": "stdout",
     "output_type": "stream",
     "text": [
      "CPU times: user 7.25 ms, sys: 3.62 ms, total: 10.9 ms\n",
      "Wall time: 10.6 ms\n"
     ]
    }
   ],
   "source": [
    "%%time\n",
    "\n",
    "X_teste_gnb = X_teste.select_dtypes(include=['float64'])\n",
    "X_valid_gnb = X_valid.select_dtypes(include=['float64'])\n",
    "\n",
    "gnb_score_teste = gnb.predict_proba(X_teste_gnb)[:, 1]\n",
    "gnb_score_valid = gnb.predict_proba(X_valid_gnb)[:, 1]"
   ]
  },
  {
   "cell_type": "markdown",
   "metadata": {},
   "source": [
    "<a id='categ'></a>\n",
    "\n",
    "### Árvore de decisão\n",
    "\n",
    "[topo](#home)"
   ]
  },
  {
   "cell_type": "code",
   "execution_count": 18,
   "metadata": {},
   "outputs": [
    {
     "name": "stdout",
     "output_type": "stream",
     "text": [
      "CPU times: user 51.8 ms, sys: 0 ns, total: 51.8 ms\n",
      "Wall time: 51.4 ms\n"
     ]
    },
    {
     "data": {
      "text/plain": [
       "GridSearchCV(cv=2, error_score='raise-deprecating',\n",
       "             estimator=DecisionTreeClassifier(class_weight=None,\n",
       "                                              criterion='gini', max_depth=4,\n",
       "                                              max_features=None,\n",
       "                                              max_leaf_nodes=None,\n",
       "                                              min_impurity_decrease=0.0,\n",
       "                                              min_impurity_split=None,\n",
       "                                              min_samples_leaf=1,\n",
       "                                              min_samples_split=2,\n",
       "                                              min_weight_fraction_leaf=0.0,\n",
       "                                              presort=False, random_state=42,\n",
       "                                              splitter='best'),\n",
       "             iid='warn', n_jobs=None,\n",
       "             param_grid={'class_weight': ['balanced', None]},\n",
       "             pre_dispatch='2*n_jobs', refit=True, return_train_score=False,\n",
       "             scoring=None, verbose=0)"
      ]
     },
     "execution_count": 18,
     "metadata": {},
     "output_type": "execute_result"
    }
   ],
   "source": [
    "%%time\n",
    "\n",
    "parameters = {\n",
    "    'class_weight': ['balanced', None]\n",
    "}\n",
    "\n",
    "dtc = GridSearchCV(\n",
    "    DecisionTreeClassifier(\n",
    "        max_depth=4,\n",
    "        random_state=42\n",
    "    ),\n",
    "    parameters,\n",
    "    cv=2\n",
    ")\n",
    "\n",
    "X_train_dtc = X_train.select_dtypes(include=['int64'])\n",
    "\n",
    "dtc.fit(X_train_dtc, y_train)"
   ]
  },
  {
   "cell_type": "code",
   "execution_count": 19,
   "metadata": {},
   "outputs": [
    {
     "name": "stdout",
     "output_type": "stream",
     "text": [
      "CPU times: user 2 µs, sys: 0 ns, total: 2 µs\n",
      "Wall time: 5.25 µs\n"
     ]
    }
   ],
   "source": [
    "%time\n",
    "\n",
    "X_teste_dtc = X_teste.select_dtypes(include=['int64'])\n",
    "X_valid_dtc = X_valid.select_dtypes(include=['int64'])\n",
    "\n",
    "dtc_score_teste = dtc.predict_proba(X_teste_dtc)[:, 1]\n",
    "dtc_score_valid = dtc.predict_proba(X_valid_dtc)[:, 1]"
   ]
  },
  {
   "cell_type": "markdown",
   "metadata": {},
   "source": [
    "<a id='stack'></a>\n",
    "\n",
    "### Stacking de modelos\n",
    "\n",
    "[topo](#home)"
   ]
  },
  {
   "cell_type": "code",
   "execution_count": 20,
   "metadata": {},
   "outputs": [],
   "source": [
    "X_teste_stack = np.c_[knn_score_teste, bnb_score_teste, gnb_score_teste, dtc_score_teste]\n",
    "X_valid_stack = np.c_[knn_score_valid, bnb_score_valid, gnb_score_valid, dtc_score_valid]"
   ]
  },
  {
   "cell_type": "code",
   "execution_count": 21,
   "metadata": {},
   "outputs": [
    {
     "name": "stdout",
     "output_type": "stream",
     "text": [
      "CPU times: user 49.4 ms, sys: 37.6 ms, total: 87 ms\n",
      "Wall time: 14.3 ms\n"
     ]
    }
   ],
   "source": [
    "%%time\n",
    "\n",
    "clf = LogisticRegression(random_state=42, solver='lbfgs')\n",
    "\n",
    "clf.fit(X_teste_stack, y_teste)\n",
    "\n",
    "clf_score_valid = clf.predict_proba(X_valid_stack)[:, 1]"
   ]
  },
  {
   "cell_type": "markdown",
   "metadata": {},
   "source": [
    "<a id='avalia'></a>\n",
    "\n",
    "## Avaliação da solução\n",
    "\n",
    "[topo](#home)"
   ]
  },
  {
   "cell_type": "code",
   "execution_count": 22,
   "metadata": {},
   "outputs": [
    {
     "name": "stdout",
     "output_type": "stream",
     "text": [
      "k-nearest neighbors: 0.54\n",
      "Bernoulli Naive Bayes: 0.64\n",
      "Gaussian Naive Bayes: 0.64\n",
      "Decision Tree: 0.72\n",
      "Stacking: 0.76\n"
     ]
    }
   ],
   "source": [
    "knn_auc = roc_auc_score(y_valid, knn_score_valid)\n",
    "bnb_auc = roc_auc_score(y_valid, bnb_score_valid)\n",
    "gnb_auc = roc_auc_score(y_valid, gnb_score_valid)\n",
    "dtc_auc = roc_auc_score(y_valid, dtc_score_valid)\n",
    "clf_auc = roc_auc_score(y_valid, clf_score_valid)\n",
    "\n",
    "print('k-nearest neighbors:', round(knn_auc, 2))\n",
    "print('Bernoulli Naive Bayes:', round(bnb_auc, 2))\n",
    "print('Gaussian Naive Bayes:', round(gnb_auc, 2))\n",
    "print('Decision Tree:', round(dtc_auc, 2))\n",
    "print('Stacking:', round(clf_auc, 2))"
   ]
  },
  {
   "cell_type": "code",
   "execution_count": 23,
   "metadata": {},
   "outputs": [
    {
     "data": {
      "image/png": "[encoded data removed]",
      "text/plain": [
       "<Figure size 504x360 with 1 Axes>"
      ]
     },
     "metadata": {
      "needs_background": "light"
     },
     "output_type": "display_data"
    }
   ],
   "source": [
    "fig, ax = plt.subplots(figsize=(7, 5), sharex=True)\n",
    "\n",
    "plot_roc(y_valid, knn_score_valid, label='k-nearest neighbors', ax=ax)\n",
    "plot_roc(y_valid, bnb_score_valid, label='Bernoulli Naive Bayes', ax=ax)\n",
    "plot_roc(y_valid, gnb_score_valid, label='Gaussian Naive Bayes', ax=ax)\n",
    "plot_roc(y_valid, dtc_score_valid, label='Decision Tree', ax=ax)\n",
    "plot_roc(y_valid, clf_score_valid, label='Stacking Model', ax=ax);"
   ]
  },
  {
   "cell_type": "markdown",
   "metadata": {},
   "source": [
    "<a id='importance'></a>\n",
    "\n",
    "## Importância das variáveis\n",
    "\n",
    "[topo](#home)"
   ]
  },
  {
   "cell_type": "code",
   "execution_count": 24,
   "metadata": {},
   "outputs": [
    {
     "data": {
      "image/png": "[encoded data removed]",
      "text/plain": [
       "<Figure size 504x360 with 1 Axes>"
      ]
     },
     "metadata": {
      "needs_background": "light"
     },
     "output_type": "display_data"
    }
   ],
   "source": [
    "df = pd.DataFrame(\n",
    "    data=dtc.best_estimator_.feature_importances_,\n",
    "    index=X_train_dtc.columns\n",
    ").sort_values(by=0)\n",
    "\n",
    "df.plot.barh(figsize=(7, 5))\n",
    "\n",
    "plt.xlabel('importância das variáveis')\n",
    "plt.legend().remove()"
   ]
  }
 ],
 "metadata": {
  "kernelspec": {
   "display_name": "Python 3",
   "language": "python",
   "name": "python3"
  },
  "language_info": {
   "codemirror_mode": {
    "name": "ipython",
    "version": 3
   },
   "file_extension": ".py",
   "mimetype": "text/x-python",
   "name": "python",
   "nbconvert_exporter": "python",
   "pygments_lexer": "ipython3",
   "version": "3.7.5rc1"
  }
 },
 "nbformat": 4,
 "nbformat_minor": 2
}
