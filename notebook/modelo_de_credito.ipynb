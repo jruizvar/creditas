{
 "cells": [
  {
   "cell_type": "markdown",
   "metadata": {},
   "source": [
    "<a id='home'></a>\n",
    "\n",
    "# Modelo de crédito para pessoa física\n",
    "\n",
    "## Conteúdo\n",
    "\n",
    "- [Análise exploratória dos dados](#explora)\n",
    "- [Pré-processamento, limpeza, e remoção de dados](#dataprep)\n",
    "- [Modelos de classificação](#modelo)\n",
    "  - [k-nearest neighbors](#zipcode)\n",
    "  - [Bernoulli naive bayes](#texto)\n",
    "  - [Gaussian naive bayes](#numer)\n",
    "  - [Árvore de decisão](#categ)\n",
    "  - [Stacking de modelos](#stack)\n",
    "- [Avaliação da solução](#avalia)\n",
    "- [Importância das variáveis](#importance)"
   ]
  },
  {
   "cell_type": "markdown",
   "metadata": {},
   "source": [
    "<a id='explora'></a>\n",
    "\n",
    "## Análise exploratória dos dados\n",
    "\n",
    "[topo](#home)"
   ]
  },
  {
   "cell_type": "code",
   "execution_count": 1,
   "metadata": {},
   "outputs": [],
   "source": [
    "%matplotlib inline\n",
    "\n",
    "import sys\n",
    "\n",
    "sys.path.append('../python')\n",
    "\n",
    "from modelos import clf_bnb\n",
    "from modelos import clf_dtc\n",
    "from modelos import clf_gnb\n",
    "from modelos import clf_knn\n",
    "\n",
    "from myutils import amostragem, dataprep\n",
    "from myplots import plot_roc\n",
    "\n",
    "from sklearn.feature_selection import f_classif\n",
    "from sklearn.linear_model import LogisticRegression\n",
    "from sklearn.metrics import roc_auc_score\n",
    "\n",
    "import matplotlib.pyplot as plt\n",
    "import numpy as np\n",
    "import pandas as pd"
   ]
  },
  {
   "cell_type": "code",
   "execution_count": 2,
   "metadata": {},
   "outputs": [
    {
     "data": {
      "text/html": [
       "<div>\n",
       "<style scoped>\n",
       "    .dataframe tbody tr th:only-of-type {\n",
       "        vertical-align: middle;\n",
       "    }\n",
       "\n",
       "    .dataframe tbody tr th {\n",
       "        vertical-align: top;\n",
       "    }\n",
       "\n",
       "    .dataframe thead th {\n",
       "        text-align: right;\n",
       "    }\n",
       "</style>\n",
       "<table border=\"1\" class=\"dataframe\">\n",
       "  <thead>\n",
       "    <tr style=\"text-align: right;\">\n",
       "      <th></th>\n",
       "      <th>id</th>\n",
       "      <th>age</th>\n",
       "      <th>monthly_income</th>\n",
       "      <th>collateral_value</th>\n",
       "      <th>loan_amount</th>\n",
       "      <th>city</th>\n",
       "      <th>state</th>\n",
       "      <th>collateral_debt</th>\n",
       "      <th>verified_restriction</th>\n",
       "      <th>dishonored_checks</th>\n",
       "      <th>...</th>\n",
       "      <th>pre_approved</th>\n",
       "      <th>form_completed</th>\n",
       "      <th>sent_to_analysis</th>\n",
       "      <th>channel</th>\n",
       "      <th>zip_code</th>\n",
       "      <th>landing_page</th>\n",
       "      <th>landing_page_product</th>\n",
       "      <th>gender</th>\n",
       "      <th>utm_term</th>\n",
       "      <th>education_level</th>\n",
       "    </tr>\n",
       "  </thead>\n",
       "  <tbody>\n",
       "    <tr>\n",
       "      <th>0</th>\n",
       "      <td>100001025857</td>\n",
       "      <td>61.0</td>\n",
       "      <td>1300.0</td>\n",
       "      <td>NaN</td>\n",
       "      <td>10000.0</td>\n",
       "      <td>NaN</td>\n",
       "      <td>NaN</td>\n",
       "      <td>NaN</td>\n",
       "      <td>NaN</td>\n",
       "      <td>0</td>\n",
       "      <td>...</td>\n",
       "      <td>0.0</td>\n",
       "      <td>1.0</td>\n",
       "      <td>0.0</td>\n",
       "      <td>NaN</td>\n",
       "      <td>5754XXXX</td>\n",
       "      <td>NaN</td>\n",
       "      <td>NaN</td>\n",
       "      <td>male</td>\n",
       "      <td>NaN</td>\n",
       "      <td>NaN</td>\n",
       "    </tr>\n",
       "    <tr>\n",
       "      <th>1</th>\n",
       "      <td>173466</td>\n",
       "      <td>50.0</td>\n",
       "      <td>3500.0</td>\n",
       "      <td>40000.0</td>\n",
       "      <td>23936.0</td>\n",
       "      <td>Muriaé</td>\n",
       "      <td>MG</td>\n",
       "      <td>NaN</td>\n",
       "      <td>1.0</td>\n",
       "      <td>0</td>\n",
       "      <td>...</td>\n",
       "      <td>0.0</td>\n",
       "      <td>0.0</td>\n",
       "      <td>0.0</td>\n",
       "      <td>search</td>\n",
       "      <td>3688XXXX</td>\n",
       "      <td>/emprestimo/garantia-veiculo</td>\n",
       "      <td>AutoRefinancing</td>\n",
       "      <td>NaN</td>\n",
       "      <td>c</td>\n",
       "      <td>NaN</td>\n",
       "    </tr>\n",
       "    <tr>\n",
       "      <th>2</th>\n",
       "      <td>173465</td>\n",
       "      <td>31.0</td>\n",
       "      <td>2600.0</td>\n",
       "      <td>18000.0</td>\n",
       "      <td>5000.0</td>\n",
       "      <td>Araxá</td>\n",
       "      <td>MG</td>\n",
       "      <td>10000.0</td>\n",
       "      <td>0.0</td>\n",
       "      <td>0</td>\n",
       "      <td>...</td>\n",
       "      <td>0.0</td>\n",
       "      <td>1.0</td>\n",
       "      <td>0.0</td>\n",
       "      <td>display</td>\n",
       "      <td>3818XXXX</td>\n",
       "      <td>/emprestimos/solicitar</td>\n",
       "      <td>PersonalLoan</td>\n",
       "      <td>male</td>\n",
       "      <td>NaN</td>\n",
       "      <td>NaN</td>\n",
       "    </tr>\n",
       "  </tbody>\n",
       "</table>\n",
       "<p>3 rows × 32 columns</p>\n",
       "</div>"
      ],
      "text/plain": [
       "             id   age  monthly_income  collateral_value  loan_amount    city  \\\n",
       "0  100001025857  61.0          1300.0               NaN      10000.0     NaN   \n",
       "1        173466  50.0          3500.0           40000.0      23936.0  Muriaé   \n",
       "2        173465  31.0          2600.0           18000.0       5000.0   Araxá   \n",
       "\n",
       "  state  collateral_debt  verified_restriction  dishonored_checks  ...  \\\n",
       "0   NaN              NaN                   NaN                  0  ...   \n",
       "1    MG              NaN                   1.0                  0  ...   \n",
       "2    MG          10000.0                   0.0                  0  ...   \n",
       "\n",
       "   pre_approved  form_completed  sent_to_analysis  channel  zip_code  \\\n",
       "0           0.0             1.0               0.0      NaN  5754XXXX   \n",
       "1           0.0             0.0               0.0   search  3688XXXX   \n",
       "2           0.0             1.0               0.0  display  3818XXXX   \n",
       "\n",
       "                   landing_page  landing_page_product  gender utm_term  \\\n",
       "0                           NaN                   NaN    male      NaN   \n",
       "1  /emprestimo/garantia-veiculo       AutoRefinancing     NaN        c   \n",
       "2        /emprestimos/solicitar          PersonalLoan    male      NaN   \n",
       "\n",
       "  education_level  \n",
       "0             NaN  \n",
       "1             NaN  \n",
       "2             NaN  \n",
       "\n",
       "[3 rows x 32 columns]"
      ]
     },
     "execution_count": 2,
     "metadata": {},
     "output_type": "execute_result"
    }
   ],
   "source": [
    "dataset = pd.read_csv('../dados/dataset.csv') \\\n",
    "    .drop_duplicates()\n",
    "\n",
    "dataset.head(3)"
   ]
  },
  {
   "cell_type": "code",
   "execution_count": 3,
   "metadata": {},
   "outputs": [
    {
     "name": "stdout",
     "output_type": "stream",
     "text": [
      "Solicitações pré-aprovadas: 14998\n"
     ]
    }
   ],
   "source": [
    "pre_aprovados = dataset.pre_approved.value_counts()\n",
    "\n",
    "print('Solicitações pré-aprovadas:', pre_aprovados[1])"
   ]
  },
  {
   "cell_type": "code",
   "execution_count": 4,
   "metadata": {},
   "outputs": [
    {
     "data": {
      "image/png": "[encoded data removed]",
      "text/plain": [
       "<Figure size 504x360 with 1 Axes>"
      ]
     },
     "metadata": {
      "needs_background": "light"
     },
     "output_type": "display_data"
    }
   ],
   "source": [
    "enviadas = dataset[dataset.pre_approved==1.0]['sent_to_analysis'].value_counts()\n",
    "\n",
    "label = f'Total de solicitações pré-aprovadas: {pre_aprovados[1]}' \n",
    "\n",
    "enviadas.plot.bar(rot=0, figsize=(7, 5), label=label)\n",
    "\n",
    "plt.ylabel('número de solicitações', fontsize='large')\n",
    "plt.xlabel('enviadas para análise de crédito', fontsize='large')\n",
    "plt.ylim(0, 15e3)\n",
    "plt.legend();"
   ]
  },
  {
   "cell_type": "code",
   "execution_count": 5,
   "metadata": {},
   "outputs": [
    {
     "name": "stdout",
     "output_type": "stream",
     "text": [
      "Solicitações pré-aprovadas e enviadas para análise de crédito: 3269\n"
     ]
    }
   ],
   "source": [
    "print('Solicitações pré-aprovadas e enviadas para análise de crédito:', enviadas[1])"
   ]
  },
  {
   "cell_type": "markdown",
   "metadata": {},
   "source": [
    "<a id='dataprep'></a>\n",
    "\n",
    "## Pré-processamento, limpeza, e remoção de dados\n",
    "\n",
    "[topo](#home)"
   ]
  },
  {
   "cell_type": "code",
   "execution_count": 6,
   "metadata": {},
   "outputs": [],
   "source": [
    "publico = dataprep(dataset)"
   ]
  },
  {
   "cell_type": "code",
   "execution_count": 7,
   "metadata": {},
   "outputs": [
    {
     "name": "stdout",
     "output_type": "stream",
     "text": [
      "                      coluna       tipo     unicos      nulos\n",
      " 1                        id      int64      13290          0\n",
      " 2                       age    float64         56          0\n",
      " 3            monthly_income    float64       1303          0\n",
      " 4               loan_amount    float64        926          0\n",
      " 5                      city     object       2098          1\n",
      " 6                     state     object         27          0\n",
      " 7         dishonored_checks      int64          2          0\n",
      " 8             banking_debts      int64          2          0\n",
      " 9          commercial_debts      int64          2          0\n",
      "10                  protests      int64          2          0\n",
      "11      informed_restriction      int64          3          0\n",
      "12           monthly_payment    float64       2162          0\n",
      "13          informed_purpose     object       8091          0\n",
      "14                auto_brand     object         49          0\n",
      "15                auto_model      int64       1552          0\n",
      "16                 auto_year      int64         30          0\n",
      "17            form_completed      int64          2          0\n",
      "18          sent_to_analysis      int64          2          0\n",
      "19                   channel      int64         10          0\n",
      "20                  zip_code     object       4184          0\n",
      "21              landing_page      int64        180          0\n",
      "22      landing_page_product      int64          8          0\n",
      "23                    gender      int64          3          0\n",
      "24           education_level      int64         10          0\n",
      "25      collateral_net_value    float64       1690          0\n"
     ]
    }
   ],
   "source": [
    "print(f'   {\"coluna\":>25} {\"tipo\":>10} {\"unicos\":>10} {\"nulos\":>10}')\n",
    "      \n",
    "for i, col in enumerate(publico.columns):\n",
    "    col_dtype = str(publico[col].dtype)\n",
    "    col_count = publico[col].nunique()\n",
    "    col_nulos = publico[col].isna().sum()\n",
    "    print(f'{i+1:>2} {col:>25} {col_dtype:>10} {col_count:>10} {col_nulos:>10}')"
   ]
  },
  {
   "cell_type": "markdown",
   "metadata": {},
   "source": [
    "<a id='modelo'></a>\n",
    "\n",
    "## Modelos de classificação\n",
    "\n",
    "[topo](#home)"
   ]
  },
  {
   "cell_type": "code",
   "execution_count": 8,
   "metadata": {},
   "outputs": [
    {
     "name": "stdout",
     "output_type": "stream",
     "text": [
      "train: (7974, 25)\n",
      "teste: (2658, 25)\n",
      "valid: (2658, 25)\n"
     ]
    }
   ],
   "source": [
    "\"\"\" Amostras de treino, teste e validação\n",
    "\"\"\"\n",
    "\n",
    "target = 'sent_to_analysis'\n",
    "\n",
    "df_train, df_teste, df_valid = amostragem(publico, target)\n",
    "\n",
    "print('train:', df_train.shape)\n",
    "print('teste:', df_teste.shape)\n",
    "print('valid:', df_valid.shape)"
   ]
  },
  {
   "cell_type": "code",
   "execution_count": 9,
   "metadata": {},
   "outputs": [],
   "source": [
    "y_train = df_train[target]\n",
    "y_teste = df_teste[target]\n",
    "y_valid = df_valid[target]\n",
    "\n",
    "X_train = df_train.drop(target, axis=1)\n",
    "X_teste = df_teste.drop(target, axis=1)\n",
    "X_valid = df_valid.drop(target, axis=1)"
   ]
  },
  {
   "cell_type": "markdown",
   "metadata": {},
   "source": [
    "<a id='zipcode'></a>\n",
    "\n",
    "### K-nearest neighbors\n",
    "\n",
    "[topo](#home)"
   ]
  },
  {
   "cell_type": "code",
   "execution_count": 10,
   "metadata": {},
   "outputs": [
    {
     "name": "stdout",
     "output_type": "stream",
     "text": [
      "CPU times: user 1.05 s, sys: 2.34 ms, total: 1.05 s\n",
      "Wall time: 1.05 s\n"
     ]
    }
   ],
   "source": [
    "%%time\n",
    "\n",
    "knn = clf_knn(X_train, y_train)\n",
    "\n",
    "X_teste_knn = X_teste.zip_code.values.reshape(-1, 1)\n",
    "X_valid_knn = X_valid.zip_code.values.reshape(-1, 1)\n",
    "\n",
    "knn_score_teste = knn.predict_proba(X_teste_knn)[:, 1]\n",
    "knn_score_valid = knn.predict_proba(X_valid_knn)[:, 1]"
   ]
  },
  {
   "cell_type": "markdown",
   "metadata": {},
   "source": [
    "<a id='texto'></a>\n",
    "\n",
    "### Bernoulli Naive bayes\n",
    "\n",
    "[topo](#home)"
   ]
  },
  {
   "cell_type": "code",
   "execution_count": 11,
   "metadata": {},
   "outputs": [
    {
     "name": "stdout",
     "output_type": "stream",
     "text": [
      "CPU times: user 80.8 ms, sys: 49 µs, total: 80.9 ms\n",
      "Wall time: 79 ms\n"
     ]
    }
   ],
   "source": [
    "%%time\n",
    "\n",
    "bnb = clf_bnb(X_train, y_train)\n",
    "\n",
    "X_teste_bnb = X_teste.informed_purpose\n",
    "X_valid_bnb = X_valid.informed_purpose\n",
    "\n",
    "bnb_score_teste = bnb.predict_proba(X_teste_bnb)[:, 1]\n",
    "bnb_score_valid = bnb.predict_proba(X_valid_bnb)[:, 1]"
   ]
  },
  {
   "cell_type": "markdown",
   "metadata": {},
   "source": [
    "<a id='numer'></a>\n",
    "\n",
    "### Gaussian naive bayes\n",
    "\n",
    "[topo](#home)"
   ]
  },
  {
   "cell_type": "code",
   "execution_count": 12,
   "metadata": {},
   "outputs": [
    {
     "name": "stdout",
     "output_type": "stream",
     "text": [
      "CPU times: user 19.6 ms, sys: 2.87 ms, total: 22.4 ms\n",
      "Wall time: 21.2 ms\n"
     ]
    }
   ],
   "source": [
    "%%time\n",
    "\n",
    "gnb = clf_gnb(X_train, y_train)\n",
    "\n",
    "X_teste_gnb = X_teste.select_dtypes(include=['float64'])\n",
    "X_valid_gnb = X_valid.select_dtypes(include=['float64'])\n",
    "\n",
    "gnb_score_teste = gnb.predict_proba(X_teste_gnb)[:, 1]\n",
    "gnb_score_valid = gnb.predict_proba(X_valid_gnb)[:, 1]"
   ]
  },
  {
   "cell_type": "markdown",
   "metadata": {},
   "source": [
    "<a id='categ'></a>\n",
    "\n",
    "### Árvore de decisão\n",
    "\n",
    "[topo](#home)"
   ]
  },
  {
   "cell_type": "code",
   "execution_count": 13,
   "metadata": {},
   "outputs": [
    {
     "name": "stdout",
     "output_type": "stream",
     "text": [
      "CPU times: user 2 µs, sys: 1 µs, total: 3 µs\n",
      "Wall time: 4.29 µs\n"
     ]
    }
   ],
   "source": [
    "%time\n",
    "\n",
    "dtc = clf_dtc(X_train, y_train)\n",
    "\n",
    "X_teste_dtc = X_teste.select_dtypes(include=['int64'])\n",
    "X_valid_dtc = X_valid.select_dtypes(include=['int64'])\n",
    "\n",
    "dtc_score_teste = dtc.predict_proba(X_teste_dtc)[:, 1]\n",
    "dtc_score_valid = dtc.predict_proba(X_valid_dtc)[:, 1]"
   ]
  },
  {
   "cell_type": "markdown",
   "metadata": {},
   "source": [
    "<a id='stack'></a>\n",
    "\n",
    "### Stacking de modelos\n",
    "\n",
    "[topo](#home)"
   ]
  },
  {
   "cell_type": "code",
   "execution_count": 14,
   "metadata": {},
   "outputs": [],
   "source": [
    "X_teste_stack = np.c_[dtc_score_teste, bnb_score_teste, gnb_score_teste, knn_score_teste]\n",
    "X_valid_stack = np.c_[dtc_score_valid, bnb_score_valid, gnb_score_valid, knn_score_valid]"
   ]
  },
  {
   "cell_type": "code",
   "execution_count": 15,
   "metadata": {},
   "outputs": [
    {
     "data": {
      "text/html": [
       "<div>\n",
       "<style scoped>\n",
       "    .dataframe tbody tr th:only-of-type {\n",
       "        vertical-align: middle;\n",
       "    }\n",
       "\n",
       "    .dataframe tbody tr th {\n",
       "        vertical-align: top;\n",
       "    }\n",
       "\n",
       "    .dataframe thead th {\n",
       "        text-align: right;\n",
       "    }\n",
       "</style>\n",
       "<table border=\"1\" class=\"dataframe\">\n",
       "  <thead>\n",
       "    <tr style=\"text-align: right;\">\n",
       "      <th></th>\n",
       "      <th>f</th>\n",
       "    </tr>\n",
       "  </thead>\n",
       "  <tbody>\n",
       "    <tr>\n",
       "      <th>dtc</th>\n",
       "      <td>1.000000</td>\n",
       "    </tr>\n",
       "    <tr>\n",
       "      <th>bnb</th>\n",
       "      <td>0.224850</td>\n",
       "    </tr>\n",
       "    <tr>\n",
       "      <th>gnb</th>\n",
       "      <td>0.124645</td>\n",
       "    </tr>\n",
       "    <tr>\n",
       "      <th>knn</th>\n",
       "      <td>0.033704</td>\n",
       "    </tr>\n",
       "  </tbody>\n",
       "</table>\n",
       "</div>"
      ],
      "text/plain": [
       "            f\n",
       "dtc  1.000000\n",
       "bnb  0.224850\n",
       "gnb  0.124645\n",
       "knn  0.033704"
      ]
     },
     "execution_count": 15,
     "metadata": {},
     "output_type": "execute_result"
    }
   ],
   "source": [
    "F, _ = f_classif(X_teste_stack, y_teste)\n",
    "\n",
    "f_scores = pd.DataFrame(\n",
    "    data = F/F.max(),\n",
    "    index = ['dtc', 'bnb', 'gnb', 'knn'],\n",
    "    columns = ['f']\n",
    ")\n",
    "\n",
    "best_f_scores = f_scores.sort_values(by='f', ascending=False)\n",
    "best_f_scores"
   ]
  },
  {
   "cell_type": "code",
   "execution_count": 16,
   "metadata": {},
   "outputs": [],
   "source": [
    "reg = LogisticRegression(random_state=42, solver='lbfgs')\n",
    "\n",
    "auc_scores = []\n",
    "\n",
    "for i in range(1, 5):\n",
    "    reg.fit(X_teste_stack[:, :i], y_teste)\n",
    "    reg_score = reg.predict_proba(X_valid_stack[:, :i])[:, 1]\n",
    "    reg_auc = roc_auc_score(y_valid, reg_score)\n",
    "    auc_scores.append(reg_auc)\n",
    "    \n",
    "reg_score_valid = reg_score"
   ]
  },
  {
   "cell_type": "code",
   "execution_count": 17,
   "metadata": {},
   "outputs": [
    {
     "data": {
      "image/png": "[encoded data removed]",
      "text/plain": [
       "<Figure size 504x360 with 1 Axes>"
      ]
     },
     "metadata": {
      "needs_background": "light"
     },
     "output_type": "display_data"
    }
   ],
   "source": [
    "plt.subplots(figsize=(7, 5))\n",
    "\n",
    "modelos = [\n",
    "    'dtc',\n",
    "    'bnb\\ndtc',\n",
    "    'gnb\\nbnb\\ndtc',\n",
    "    'knn\\ngnb\\nbnb\\ndtc'\n",
    "]\n",
    "\n",
    "plt.plot(modelos, auc_scores, 'o-')\n",
    "plt.tick_params(labelsize='large')\n",
    "plt.title('Stacking de modelos', fontsize='large')\n",
    "plt.ylabel('AUC score', fontsize='large');"
   ]
  },
  {
   "cell_type": "markdown",
   "metadata": {},
   "source": [
    "<a id='avalia'></a>\n",
    "\n",
    "## Avaliação da solução\n",
    "\n",
    "[topo](#home)"
   ]
  },
  {
   "cell_type": "code",
   "execution_count": 18,
   "metadata": {},
   "outputs": [
    {
     "data": {
      "image/png": "[encoded data removed]",
      "text/plain": [
       "<Figure size 504x360 with 1 Axes>"
      ]
     },
     "metadata": {
      "needs_background": "light"
     },
     "output_type": "display_data"
    }
   ],
   "source": [
    "fig, ax = plt.subplots(figsize=(7, 5), sharex=True)\n",
    "                  \n",
    "plot_roc(y_valid, reg_score_valid, label='Stacking', ax=ax)\n",
    "plot_roc(y_valid, dtc_score_valid, label='Decision Tree', ax=ax)\n",
    "plot_roc(y_valid, gnb_score_valid, label='Gaussian Naive Bayes', ax=ax)\n",
    "plot_roc(y_valid, bnb_score_valid, label='Bernoulli Naive Bayes', ax=ax)\n",
    "plot_roc(y_valid, knn_score_valid, label='K-Nearest Neighbors', ax=ax);"
   ]
  },
  {
   "cell_type": "markdown",
   "metadata": {},
   "source": [
    "<a id='importance'></a>\n",
    "\n",
    "## Importância das variáveis\n",
    "\n",
    "[topo](#home)"
   ]
  },
  {
   "cell_type": "code",
   "execution_count": 19,
   "metadata": {},
   "outputs": [
    {
     "data": {
      "image/png": "[encoded data removed]",
      "text/plain": [
       "<Figure size 504x360 with 1 Axes>"
      ]
     },
     "metadata": {
      "needs_background": "light"
     },
     "output_type": "display_data"
    }
   ],
   "source": [
    "dtc_columns = X_train.select_dtypes(include=['int64']).columns\n",
    "\n",
    "df = pd.DataFrame(\n",
    "    data=dtc.feature_importances_,\n",
    "    index=dtc_columns\n",
    ").sort_values(by=0)\n",
    "\n",
    "df.plot.barh(figsize=(7, 5))\n",
    "\n",
    "plt.title('Árvore de decisão', fontsize='large')\n",
    "plt.xlabel('importância das variáveis', fontsize='large')\n",
    "plt.legend().remove()"
   ]
  }
 ],
 "metadata": {
  "kernelspec": {
   "display_name": "Python 3",
   "language": "python",
   "name": "python3"
  },
  "language_info": {
   "codemirror_mode": {
    "name": "ipython",
    "version": 3
   },
   "file_extension": ".py",
   "mimetype": "text/x-python",
   "name": "python",
   "nbconvert_exporter": "python",
   "pygments_lexer": "ipython3",
   "version": "3.7.5rc1"
  }
 },
 "nbformat": 4,
 "nbformat_minor": 2
}
