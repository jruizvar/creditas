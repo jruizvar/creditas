{
 "cells": [
  {
   "cell_type": "markdown",
   "metadata": {},
   "source": [
    "<a id='home'></a>\n",
    "\n",
    "# Modelo de crédito para pessoa física\n",
    "\n",
    "## Conteúdo\n",
    "\n",
    "- [Análise exploratória dos dados](#explora)\n",
    "- [Pré-processamento, limpeza, e remoção de dados](#dataprep)\n",
    "- [Modelos de classificação](#modelo)\n",
    "  - [Modelo de processamento de texto](#texto)\n",
    "  - [Modelo para as variáveis numéricas](#numer)\n",
    "  - [Modelo para as variáveis categóricas](#categ)\n",
    "  - [Stacking de modelos](#stack)\n",
    "- [Avaliação da solução](#avalia)\n",
    "- [Importância das variáveis](#importance)"
   ]
  },
  {
   "cell_type": "markdown",
   "metadata": {},
   "source": [
    "<a id='explora'></a>\n",
    "\n",
    "## Análise exploratória dos dados\n",
    "\n",
    "[topo](#home)"
   ]
  },
  {
   "cell_type": "code",
   "execution_count": 1,
   "metadata": {},
   "outputs": [],
   "source": [
    "import sys\n",
    "\n",
    "sys.path.append('../python')"
   ]
  },
  {
   "cell_type": "code",
   "execution_count": 2,
   "metadata": {},
   "outputs": [],
   "source": [
    "%matplotlib inline\n",
    "\n",
    "from dataprep import *\n",
    "from sklearn.linear_model import LogisticRegression\n",
    "from sklearn.metrics import roc_auc_score\n",
    "from sklearn.model_selection import train_test_split\n",
    "from sklearn.naive_bayes import GaussianNB\n",
    "from sklearn.naive_bayes import MultinomialNB\n",
    "from sklearn.preprocessing import StandardScaler\n",
    "from sklearn.tree import DecisionTreeClassifier\n",
    "\n",
    "import matplotlib.pyplot as plt\n",
    "import numpy as np\n",
    "import pandas as pd"
   ]
  },
  {
   "cell_type": "code",
   "execution_count": 3,
   "metadata": {},
   "outputs": [
    {
     "data": {
      "text/html": [
       "<div>\n",
       "<style scoped>\n",
       "    .dataframe tbody tr th:only-of-type {\n",
       "        vertical-align: middle;\n",
       "    }\n",
       "\n",
       "    .dataframe tbody tr th {\n",
       "        vertical-align: top;\n",
       "    }\n",
       "\n",
       "    .dataframe thead th {\n",
       "        text-align: right;\n",
       "    }\n",
       "</style>\n",
       "<table border=\"1\" class=\"dataframe\">\n",
       "  <thead>\n",
       "    <tr style=\"text-align: right;\">\n",
       "      <th></th>\n",
       "      <th>id</th>\n",
       "      <th>age</th>\n",
       "      <th>monthly_income</th>\n",
       "      <th>collateral_value</th>\n",
       "      <th>loan_amount</th>\n",
       "      <th>city</th>\n",
       "      <th>state</th>\n",
       "      <th>collateral_debt</th>\n",
       "      <th>verified_restriction</th>\n",
       "      <th>dishonored_checks</th>\n",
       "      <th>...</th>\n",
       "      <th>pre_approved</th>\n",
       "      <th>form_completed</th>\n",
       "      <th>sent_to_analysis</th>\n",
       "      <th>channel</th>\n",
       "      <th>zip_code</th>\n",
       "      <th>landing_page</th>\n",
       "      <th>landing_page_product</th>\n",
       "      <th>gender</th>\n",
       "      <th>utm_term</th>\n",
       "      <th>education_level</th>\n",
       "    </tr>\n",
       "  </thead>\n",
       "  <tbody>\n",
       "    <tr>\n",
       "      <th>0</th>\n",
       "      <td>100001025857</td>\n",
       "      <td>61.0</td>\n",
       "      <td>1300.0</td>\n",
       "      <td>NaN</td>\n",
       "      <td>10000.0</td>\n",
       "      <td>NaN</td>\n",
       "      <td>NaN</td>\n",
       "      <td>NaN</td>\n",
       "      <td>NaN</td>\n",
       "      <td>0</td>\n",
       "      <td>...</td>\n",
       "      <td>0.0</td>\n",
       "      <td>1.0</td>\n",
       "      <td>0.0</td>\n",
       "      <td>NaN</td>\n",
       "      <td>5754XXXX</td>\n",
       "      <td>NaN</td>\n",
       "      <td>NaN</td>\n",
       "      <td>male</td>\n",
       "      <td>NaN</td>\n",
       "      <td>NaN</td>\n",
       "    </tr>\n",
       "    <tr>\n",
       "      <th>1</th>\n",
       "      <td>173466</td>\n",
       "      <td>50.0</td>\n",
       "      <td>3500.0</td>\n",
       "      <td>40000.0</td>\n",
       "      <td>23936.0</td>\n",
       "      <td>Muriaé</td>\n",
       "      <td>MG</td>\n",
       "      <td>NaN</td>\n",
       "      <td>1.0</td>\n",
       "      <td>0</td>\n",
       "      <td>...</td>\n",
       "      <td>0.0</td>\n",
       "      <td>0.0</td>\n",
       "      <td>0.0</td>\n",
       "      <td>search</td>\n",
       "      <td>3688XXXX</td>\n",
       "      <td>/emprestimo/garantia-veiculo</td>\n",
       "      <td>AutoRefinancing</td>\n",
       "      <td>NaN</td>\n",
       "      <td>c</td>\n",
       "      <td>NaN</td>\n",
       "    </tr>\n",
       "    <tr>\n",
       "      <th>2</th>\n",
       "      <td>173465</td>\n",
       "      <td>31.0</td>\n",
       "      <td>2600.0</td>\n",
       "      <td>18000.0</td>\n",
       "      <td>5000.0</td>\n",
       "      <td>Araxá</td>\n",
       "      <td>MG</td>\n",
       "      <td>10000.0</td>\n",
       "      <td>0.0</td>\n",
       "      <td>0</td>\n",
       "      <td>...</td>\n",
       "      <td>0.0</td>\n",
       "      <td>1.0</td>\n",
       "      <td>0.0</td>\n",
       "      <td>display</td>\n",
       "      <td>3818XXXX</td>\n",
       "      <td>/emprestimos/solicitar</td>\n",
       "      <td>PersonalLoan</td>\n",
       "      <td>male</td>\n",
       "      <td>NaN</td>\n",
       "      <td>NaN</td>\n",
       "    </tr>\n",
       "  </tbody>\n",
       "</table>\n",
       "<p>3 rows × 32 columns</p>\n",
       "</div>"
      ],
      "text/plain": [
       "             id   age  monthly_income  collateral_value  loan_amount    city  \\\n",
       "0  100001025857  61.0          1300.0               NaN      10000.0     NaN   \n",
       "1        173466  50.0          3500.0           40000.0      23936.0  Muriaé   \n",
       "2        173465  31.0          2600.0           18000.0       5000.0   Araxá   \n",
       "\n",
       "  state  collateral_debt  verified_restriction  dishonored_checks  ...  \\\n",
       "0   NaN              NaN                   NaN                  0  ...   \n",
       "1    MG              NaN                   1.0                  0  ...   \n",
       "2    MG          10000.0                   0.0                  0  ...   \n",
       "\n",
       "   pre_approved  form_completed  sent_to_analysis  channel  zip_code  \\\n",
       "0           0.0             1.0               0.0      NaN  5754XXXX   \n",
       "1           0.0             0.0               0.0   search  3688XXXX   \n",
       "2           0.0             1.0               0.0  display  3818XXXX   \n",
       "\n",
       "                   landing_page  landing_page_product  gender utm_term  \\\n",
       "0                           NaN                   NaN    male      NaN   \n",
       "1  /emprestimo/garantia-veiculo       AutoRefinancing     NaN        c   \n",
       "2        /emprestimos/solicitar          PersonalLoan    male      NaN   \n",
       "\n",
       "  education_level  \n",
       "0             NaN  \n",
       "1             NaN  \n",
       "2             NaN  \n",
       "\n",
       "[3 rows x 32 columns]"
      ]
     },
     "execution_count": 3,
     "metadata": {},
     "output_type": "execute_result"
    }
   ],
   "source": [
    "dataset = pd.read_csv('../dados/dataset.csv').drop_duplicates()\n",
    "\n",
    "dataset.head(3)"
   ]
  },
  {
   "cell_type": "code",
   "execution_count": 4,
   "metadata": {},
   "outputs": [
    {
     "data": {
      "image/png": "[encoded data removed]",
      "text/plain": [
       "<Figure size 432x288 with 1 Axes>"
      ]
     },
     "metadata": {
      "needs_background": "light"
     },
     "output_type": "display_data"
    }
   ],
   "source": [
    "pre_aprovados = dataset.pre_approved.value_counts()\n",
    "\n",
    "pre_aprovados.plot.bar(rot=0)\n",
    "\n",
    "plt.ylabel('número de solicitações')\n",
    "plt.xlabel('pré-aprovado');"
   ]
  },
  {
   "cell_type": "code",
   "execution_count": 5,
   "metadata": {},
   "outputs": [
    {
     "name": "stdout",
     "output_type": "stream",
     "text": [
      "Solicitações pré-aprovadas: 14998\n"
     ]
    }
   ],
   "source": [
    "print('Solicitações pré-aprovadas:', pre_aprovados[1])"
   ]
  },
  {
   "cell_type": "markdown",
   "metadata": {},
   "source": [
    "<a id='dataprep'></a>\n",
    "\n",
    "## Pré-processamento, limpeza, e remoção de dados\n",
    "\n",
    "[topo](#home)"
   ]
  },
  {
   "cell_type": "code",
   "execution_count": 6,
   "metadata": {},
   "outputs": [],
   "source": [
    "publico = dataprep(dataset)"
   ]
  },
  {
   "cell_type": "code",
   "execution_count": 7,
   "metadata": {},
   "outputs": [
    {
     "name": "stdout",
     "output_type": "stream",
     "text": [
      "                      coluna       tipo     unicos      nulos\n",
      " 1                        id      int64      10091          0\n",
      " 2                       age      int64         69          0\n",
      " 3            monthly_income    float64        991          0\n",
      " 4               loan_amount    float64        870          0\n",
      " 5                     state      int64         27          0\n",
      " 6      verified_restriction      int64          3          0\n",
      " 7         dishonored_checks      int64          2          0\n",
      " 8             expired_debts      int64          2          0\n",
      " 9             banking_debts      int64          2          0\n",
      "10          commercial_debts      int64          2          0\n",
      "11                  protests      int64          2          0\n",
      "12      informed_restriction      int64          3          0\n",
      "13           monthly_payment    float64       2006          0\n",
      "14          informed_purpose     object       6485          0\n",
      "15                auto_brand      int64         45          0\n",
      "16                 auto_year      int64         25          0\n",
      "17              pre_approved      int64          1          0\n",
      "18            form_completed      int64          2          0\n",
      "19          sent_to_analysis      int64          2          0\n",
      "20                   channel      int64         10          0\n",
      "21              landing_page      int64        154          0\n",
      "22      landing_page_product      int64          8          0\n",
      "23                    gender      int64          3          0\n",
      "24           education_level      int64         10          0\n",
      "25      collateral_net_value    float64       1397          0\n"
     ]
    }
   ],
   "source": [
    "\"\"\" Sumário do pré-processamento\n",
    "\"\"\"\n",
    "\n",
    "print(f'   {\"coluna\":>25} {\"tipo\":>10} {\"unicos\":>10} {\"nulos\":>10}')\n",
    "      \n",
    "for i, col in enumerate(publico.columns):\n",
    "    col_dtype = str(publico[col].dtype)\n",
    "    col_count = publico[col].nunique()\n",
    "    col_nulos = publico[col].isna().sum()\n",
    "    print(f'{i+1:>2} {col:>25} {col_dtype:>10} {col_count:>10} {col_nulos:>10}')"
   ]
  },
  {
   "cell_type": "markdown",
   "metadata": {},
   "source": [
    "<a id='modelo'></a>\n",
    "\n",
    "## Modelos de classificação\n",
    "\n",
    "[topo](#home)"
   ]
  },
  {
   "cell_type": "code",
   "execution_count": 8,
   "metadata": {},
   "outputs": [
    {
     "name": "stdout",
     "output_type": "stream",
     "text": [
      "train: (5045, 24)\n",
      "teste: (2523, 24)\n",
      "valid: (2523, 24)\n"
     ]
    }
   ],
   "source": [
    "\"\"\" Amostras de treino, teste e validação\n",
    "\"\"\"\n",
    "\n",
    "target = 'sent_to_analysis'\n",
    "\n",
    "y = publico[target]\n",
    "X = publico.drop(target, axis=1)\n",
    "\n",
    "X_train, X_teste, y_train, y_teste = train_test_split(\n",
    "    X, y, test_size=0.5, random_state=42)\n",
    "\n",
    "X_teste, X_valid, y_teste, y_valid = train_test_split(\n",
    "    X_teste, y_teste, test_size=0.5, random_state=42)\n",
    "\n",
    "print('train:', X_train.shape)\n",
    "print('teste:', X_teste.shape)\n",
    "print('valid:', X_valid.shape)"
   ]
  },
  {
   "cell_type": "markdown",
   "metadata": {},
   "source": [
    "<a id='texto'></a>\n",
    "\n",
    "### Modelo de processamento de texto\n",
    "\n",
    "[topo](#home)"
   ]
  },
  {
   "cell_type": "code",
   "execution_count": 9,
   "metadata": {},
   "outputs": [
    {
     "name": "stdout",
     "output_type": "stream",
     "text": [
      "CPU times: user 590 ms, sys: 2.24 ms, total: 592 ms\n",
      "Wall time: 591 ms\n"
     ]
    }
   ],
   "source": [
    "%%time\n",
    "\n",
    "X_train_obj = X_train.informed_purpose\n",
    "X_teste_obj = X_teste.informed_purpose\n",
    "X_valid_obj = X_valid.informed_purpose\n",
    "\n",
    "vectorizer = bag_of_words(X_train_obj)\n",
    "\n",
    "X_train_vec = vectorizer.transform(X_train_obj)\n",
    "X_teste_vec = vectorizer.transform(X_teste_obj)\n",
    "X_valid_vec = vectorizer.transform(X_valid_obj)"
   ]
  },
  {
   "cell_type": "code",
   "execution_count": 10,
   "metadata": {},
   "outputs": [
    {
     "name": "stdout",
     "output_type": "stream",
     "text": [
      "CPU times: user 0 ns, sys: 3.77 ms, total: 3.77 ms\n",
      "Wall time: 2.84 ms\n"
     ]
    }
   ],
   "source": [
    "%%time\n",
    "\n",
    "mnb = MultinomialNB()\n",
    "\n",
    "mnb.fit(X_train_vec, y_train)\n",
    "\n",
    "mnb_score_teste = mnb.predict_proba(X_teste_vec)[:, 1]\n",
    "mnb_score_valid = mnb.predict_proba(X_valid_vec)[:, 1]"
   ]
  },
  {
   "cell_type": "markdown",
   "metadata": {},
   "source": [
    "<a id='numer'></a>\n",
    "\n",
    "### Modelo para as variáveis numéricas\n",
    "\n",
    "[topo](#home)"
   ]
  },
  {
   "cell_type": "code",
   "execution_count": 11,
   "metadata": {},
   "outputs": [],
   "source": [
    "X_train_num = X_train.select_dtypes(include=['float64'])\n",
    "X_teste_num = X_teste.select_dtypes(include=['float64'])\n",
    "X_valid_num = X_valid.select_dtypes(include=['float64'])"
   ]
  },
  {
   "cell_type": "code",
   "execution_count": 12,
   "metadata": {},
   "outputs": [],
   "source": [
    "scaler = StandardScaler()\n",
    "\n",
    "scaler.fit(X_train_num)\n",
    "\n",
    "X_train_num_norm = scaler.transform(X_train_num)\n",
    "X_teste_num_norm = scaler.transform(X_teste_num)\n",
    "X_valid_num_norm = scaler.transform(X_valid_num)"
   ]
  },
  {
   "cell_type": "code",
   "execution_count": 13,
   "metadata": {},
   "outputs": [
    {
     "data": {
      "image/png": "[encoded data removed]",
      "text/plain": [
       "<Figure size 432x288 with 1 Axes>"
      ]
     },
     "metadata": {
      "needs_background": "light"
     },
     "output_type": "display_data"
    }
   ],
   "source": [
    "pd.DataFrame(X_train_num_norm).boxplot();"
   ]
  },
  {
   "cell_type": "code",
   "execution_count": 14,
   "metadata": {},
   "outputs": [
    {
     "name": "stdout",
     "output_type": "stream",
     "text": [
      "CPU times: user 3.22 ms, sys: 0 ns, total: 3.22 ms\n",
      "Wall time: 2.61 ms\n"
     ]
    }
   ],
   "source": [
    "%%time\n",
    "\n",
    "gnb = GaussianNB()\n",
    "\n",
    "gnb.fit(X_train_num_norm, y_train)\n",
    "\n",
    "gnb_score_teste = gnb.predict_proba(X_teste_num_norm)[:, 1]\n",
    "gnb_score_valid = gnb.predict_proba(X_valid_num_norm)[:, 1]"
   ]
  },
  {
   "cell_type": "markdown",
   "metadata": {},
   "source": [
    "<a id='categ'></a>\n",
    "\n",
    "### Modelo para as variáveis categóricas\n",
    "\n",
    "[topo](#home)"
   ]
  },
  {
   "cell_type": "code",
   "execution_count": 15,
   "metadata": {},
   "outputs": [],
   "source": [
    "X_train_cat = X_train.select_dtypes(include=['int64'])\n",
    "X_teste_cat = X_teste.select_dtypes(include=['int64'])\n",
    "X_valid_cat = X_valid.select_dtypes(include=['int64'])"
   ]
  },
  {
   "cell_type": "code",
   "execution_count": 16,
   "metadata": {},
   "outputs": [
    {
     "name": "stdout",
     "output_type": "stream",
     "text": [
      "CPU times: user 12 ms, sys: 0 ns, total: 12 ms\n",
      "Wall time: 11.6 ms\n"
     ]
    }
   ],
   "source": [
    "%%time\n",
    "\n",
    "dtr = DecisionTreeClassifier(max_depth=5)\n",
    "\n",
    "dtr.fit(X_train_cat, y_train)\n",
    "\n",
    "dtr_score_teste = dtr.predict_proba(X_teste_cat)[:, 1]\n",
    "dtr_score_valid = dtr.predict_proba(X_valid_cat)[:, 1]"
   ]
  },
  {
   "cell_type": "markdown",
   "metadata": {},
   "source": [
    "<a id='stack'></a>\n",
    "\n",
    "### Stacking de modelos\n",
    "\n",
    "[topo](#home)"
   ]
  },
  {
   "cell_type": "code",
   "execution_count": 17,
   "metadata": {},
   "outputs": [],
   "source": [
    "X_teste_stack = np.c_[mnb_score_teste, gnb_score_teste, dtr_score_teste]\n",
    "X_valid_stack = np.c_[mnb_score_valid, gnb_score_valid, dtr_score_valid]"
   ]
  },
  {
   "cell_type": "code",
   "execution_count": 18,
   "metadata": {},
   "outputs": [
    {
     "name": "stdout",
     "output_type": "stream",
     "text": [
      "CPU times: user 3.95 ms, sys: 0 ns, total: 3.95 ms\n",
      "Wall time: 3.66 ms\n"
     ]
    }
   ],
   "source": [
    "%%time\n",
    "\n",
    "clf = LogisticRegression(random_state=42, solver='lbfgs')\n",
    "\n",
    "clf.fit(X_teste_stack, y_teste)\n",
    "\n",
    "clf_score_valid = clf.predict_proba(X_valid_stack)[:, 1]"
   ]
  },
  {
   "cell_type": "markdown",
   "metadata": {},
   "source": [
    "<a id='avalia'></a>\n",
    "\n",
    "## Avaliação da solução\n",
    "\n",
    "[topo](#home)"
   ]
  },
  {
   "cell_type": "code",
   "execution_count": 19,
   "metadata": {},
   "outputs": [
    {
     "name": "stdout",
     "output_type": "stream",
     "text": [
      "Multinomial Naive Bayes: 0.6224858010057657\n",
      "Gaussian Naive Bayes: 0.6252175687052274\n",
      "Decision Tree: 0.7232668102491\n",
      "Stacking: 0.7452969866626725\n"
     ]
    }
   ],
   "source": [
    "mnb_auc = roc_auc_score(y_valid, mnb_score_valid)\n",
    "gnb_auc = roc_auc_score(y_valid, gnb_score_valid)\n",
    "dtr_auc = roc_auc_score(y_valid, dtr_score_valid)\n",
    "clf_auc = roc_auc_score(y_valid, clf_score_valid)\n",
    "\n",
    "print('Multinomial Naive Bayes:', mnb_auc)\n",
    "print('Gaussian Naive Bayes:', gnb_auc)\n",
    "print('Decision Tree:', dtr_auc)\n",
    "print('Stacking:', clf_auc)"
   ]
  },
  {
   "cell_type": "markdown",
   "metadata": {},
   "source": [
    "<a id='importance'></a>\n",
    "\n",
    "## Importância das variáveis\n",
    "\n",
    "[topo](#home)"
   ]
  },
  {
   "cell_type": "code",
   "execution_count": null,
   "metadata": {},
   "outputs": [],
   "source": []
  }
 ],
 "metadata": {
  "kernelspec": {
   "display_name": "Python 3",
   "language": "python",
   "name": "python3"
  },
  "language_info": {
   "codemirror_mode": {
    "name": "ipython",
    "version": 3
   },
   "file_extension": ".py",
   "mimetype": "text/x-python",
   "name": "python",
   "nbconvert_exporter": "python",
   "pygments_lexer": "ipython3",
   "version": "3.7.5rc1"
  }
 },
 "nbformat": 4,
 "nbformat_minor": 2
}
